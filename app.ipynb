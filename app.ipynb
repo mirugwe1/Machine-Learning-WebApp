{
 "cells": [
  {
   "cell_type": "code",
   "execution_count": 18,
   "id": "6cbf3313-4636-4ac1-bbb5-18dc12e59e4b",
   "metadata": {},
   "outputs": [],
   "source": [
    "import streamlit as st\n",
    "import asyncio"
   ]
  },
  {
   "cell_type": "code",
   "execution_count": 19,
   "id": "01eced7c-90a3-4950-9d2b-2a242e18ffb1",
   "metadata": {},
   "outputs": [],
   "source": [
    "with st.sidebar: \n",
    "    st.image(\"https://www.onepointltd.com/wp-content/uploads/2020/03/inno2.png\")\n",
    "    st.title(\"AutoNickML\")\n",
    "    #choice = st.radio(\"Navigation\", [\"Upload\",\"Profiling\",\"Modelling\", \"Download\"])\n",
    "    #st.info(\"This project application helps you build and explore your data.\")"
   ]
  },
  {
   "cell_type": "code",
   "execution_count": 22,
   "id": "948b5b99-1745-467f-8512-04e152f1ca08",
   "metadata": {},
   "outputs": [
    {
     "data": {
      "text/plain": [
       "'/Users/alexmirugwe/Machine-Learning-WebApp'"
      ]
     },
     "execution_count": 22,
     "metadata": {},
     "output_type": "execute_result"
    }
   ],
   "source": [
    "import os\n",
    "os.getcwd()"
   ]
  },
  {
   "cell_type": "code",
   "execution_count": 23,
   "id": "87802730-0962-4b06-b297-892efe419952",
   "metadata": {},
   "outputs": [
    {
     "name": "stdout",
     "output_type": "stream",
     "text": [
      "Collecting pandas-profiling\n",
      "  Downloading pandas_profiling-3.6.6-py2.py3-none-any.whl (324 kB)\n",
      "\u001b[2K     \u001b[90m━━━━━━━━━━━━━━━━━━━━━━━━━━━━━━━━━━━━━━━\u001b[0m \u001b[32m324.4/324.4 kB\u001b[0m \u001b[31m1.2 MB/s\u001b[0m eta \u001b[36m0:00:00\u001b[0m00:01\u001b[0m00:01\u001b[0m\n",
      "\u001b[?25hCollecting ydata-profiling\n",
      "  Downloading ydata_profiling-4.3.1-py2.py3-none-any.whl (352 kB)\n",
      "\u001b[2K     \u001b[90m━━━━━━━━━━━━━━━━━━━━━━━━━━━━━━━━━━━━━━━\u001b[0m \u001b[32m353.0/353.0 kB\u001b[0m \u001b[31m2.4 MB/s\u001b[0m eta \u001b[36m0:00:00\u001b[0m00:01\u001b[0m00:01\u001b[0m\n",
      "\u001b[?25hRequirement already satisfied: numpy<1.24,>=1.16.0 in /Users/alexmirugwe/opt/anaconda3/lib/python3.9/site-packages (from ydata-profiling->pandas-profiling) (1.21.6)\n",
      "Requirement already satisfied: requests<3,>=2.24.0 in /Users/alexmirugwe/opt/anaconda3/lib/python3.9/site-packages (from ydata-profiling->pandas-profiling) (2.28.1)\n",
      "Requirement already satisfied: jinja2<3.2,>=2.11.1 in /Users/alexmirugwe/opt/anaconda3/lib/python3.9/site-packages (from ydata-profiling->pandas-profiling) (3.1.2)\n",
      "Collecting typeguard<3,>=2.13.2\n",
      "  Downloading typeguard-2.13.3-py3-none-any.whl (17 kB)\n",
      "Requirement already satisfied: seaborn<0.13,>=0.10.1 in /Users/alexmirugwe/opt/anaconda3/lib/python3.9/site-packages (from ydata-profiling->pandas-profiling) (0.11.2)\n",
      "Requirement already satisfied: statsmodels<1,>=0.13.2 in /Users/alexmirugwe/opt/anaconda3/lib/python3.9/site-packages (from ydata-profiling->pandas-profiling) (0.13.2)\n",
      "Collecting imagehash==4.3.1\n",
      "  Downloading ImageHash-4.3.1-py2.py3-none-any.whl (296 kB)\n",
      "\u001b[2K     \u001b[90m━━━━━━━━━━━━━━━━━━━━━━━━━━━━━━━━━━━━━━━\u001b[0m \u001b[32m296.5/296.5 kB\u001b[0m \u001b[31m3.5 MB/s\u001b[0m eta \u001b[36m0:00:00\u001b[0ma \u001b[36m0:00:01\u001b[0m\n",
      "\u001b[?25hRequirement already satisfied: matplotlib<4,>=3.2 in /Users/alexmirugwe/opt/anaconda3/lib/python3.9/site-packages (from ydata-profiling->pandas-profiling) (3.5.2)\n",
      "Collecting phik<0.13,>=0.11.1\n",
      "  Downloading phik-0.12.3-cp39-cp39-macosx_10_13_x86_64.whl (652 kB)\n",
      "\u001b[2K     \u001b[90m━━━━━━━━━━━━━━━━━━━━━━━━━━━━━━━━━━━━━━━\u001b[0m \u001b[32m653.0/653.0 kB\u001b[0m \u001b[31m3.6 MB/s\u001b[0m eta \u001b[36m0:00:00\u001b[0m00:01\u001b[0m00:01\u001b[0m\n",
      "\u001b[?25hCollecting multimethod<2,>=1.4\n",
      "  Downloading multimethod-1.9.1-py3-none-any.whl (10 kB)\n",
      "Requirement already satisfied: pandas!=1.4.0,<2.1,>1.1 in /Users/alexmirugwe/opt/anaconda3/lib/python3.9/site-packages (from ydata-profiling->pandas-profiling) (1.3.0)\n",
      "Requirement already satisfied: tqdm<5,>=4.48.2 in /Users/alexmirugwe/opt/anaconda3/lib/python3.9/site-packages (from ydata-profiling->pandas-profiling) (4.64.1)\n",
      "Collecting dacite>=1.8\n",
      "  Downloading dacite-1.8.1-py3-none-any.whl (14 kB)\n",
      "Collecting htmlmin==0.1.12\n",
      "  Downloading htmlmin-0.1.12.tar.gz (19 kB)\n",
      "  Preparing metadata (setup.py) ... \u001b[?25ldone\n",
      "\u001b[?25hCollecting wordcloud>=1.9.1\n",
      "  Downloading wordcloud-1.9.2-cp39-cp39-macosx_10_9_x86_64.whl (161 kB)\n",
      "\u001b[2K     \u001b[90m━━━━━━━━━━━━━━━━━━━━━━━━━━━━━━━━━━━━━━━\u001b[0m \u001b[32m161.1/161.1 kB\u001b[0m \u001b[31m4.4 MB/s\u001b[0m eta \u001b[36m0:00:00\u001b[0m\n",
      "\u001b[?25hRequirement already satisfied: scipy<1.11,>=1.4.1 in /Users/alexmirugwe/opt/anaconda3/lib/python3.9/site-packages (from ydata-profiling->pandas-profiling) (1.9.1)\n",
      "Requirement already satisfied: PyYAML<6.1,>=5.0.0 in /Users/alexmirugwe/opt/anaconda3/lib/python3.9/site-packages (from ydata-profiling->pandas-profiling) (6.0)\n",
      "Collecting pydantic<2,>=1.8.1\n",
      "  Downloading pydantic-1.10.11-cp39-cp39-macosx_10_9_x86_64.whl (2.9 MB)\n",
      "\u001b[2K     \u001b[90m━━━━━━━━━━━━━━━━━━━━━━━━━━━━━━━━━━━━━━━━\u001b[0m \u001b[32m2.9/2.9 MB\u001b[0m \u001b[31m4.9 MB/s\u001b[0m eta \u001b[36m0:00:00\u001b[0m00:01\u001b[0m00:01\u001b[0m\n",
      "\u001b[?25hCollecting visions[type_image_path]==0.7.5\n",
      "  Downloading visions-0.7.5-py3-none-any.whl (102 kB)\n",
      "\u001b[2K     \u001b[90m━━━━━━━━━━━━━━━━━━━━━━━━━━━━━━━━━━━━━━━\u001b[0m \u001b[32m102.7/102.7 kB\u001b[0m \u001b[31m3.3 MB/s\u001b[0m eta \u001b[36m0:00:00\u001b[0m\n",
      "\u001b[?25hRequirement already satisfied: PyWavelets in /Users/alexmirugwe/opt/anaconda3/lib/python3.9/site-packages (from imagehash==4.3.1->ydata-profiling->pandas-profiling) (1.3.0)\n",
      "Requirement already satisfied: pillow in /Users/alexmirugwe/opt/anaconda3/lib/python3.9/site-packages (from imagehash==4.3.1->ydata-profiling->pandas-profiling) (9.2.0)\n",
      "Requirement already satisfied: networkx>=2.4 in /Users/alexmirugwe/opt/anaconda3/lib/python3.9/site-packages (from visions[type_image_path]==0.7.5->ydata-profiling->pandas-profiling) (2.8.4)\n",
      "Requirement already satisfied: attrs>=19.3.0 in /Users/alexmirugwe/opt/anaconda3/lib/python3.9/site-packages (from visions[type_image_path]==0.7.5->ydata-profiling->pandas-profiling) (21.4.0)\n",
      "Collecting tangled-up-in-unicode>=0.0.4\n",
      "  Downloading tangled_up_in_unicode-0.2.0-py3-none-any.whl (4.7 MB)\n",
      "\u001b[2K     \u001b[90m━━━━━━━━━━━━━━━━━━━━━━━━━━━━━━━━━━━━━━━━\u001b[0m \u001b[32m4.7/4.7 MB\u001b[0m \u001b[31m4.0 MB/s\u001b[0m eta \u001b[36m0:00:00\u001b[0m00:01\u001b[0m00:01\u001b[0m\n",
      "\u001b[?25hRequirement already satisfied: MarkupSafe>=2.0 in /Users/alexmirugwe/opt/anaconda3/lib/python3.9/site-packages (from jinja2<3.2,>=2.11.1->ydata-profiling->pandas-profiling) (2.0.1)\n",
      "Requirement already satisfied: fonttools>=4.22.0 in /Users/alexmirugwe/opt/anaconda3/lib/python3.9/site-packages (from matplotlib<4,>=3.2->ydata-profiling->pandas-profiling) (4.25.0)\n",
      "Requirement already satisfied: packaging>=20.0 in /Users/alexmirugwe/opt/anaconda3/lib/python3.9/site-packages (from matplotlib<4,>=3.2->ydata-profiling->pandas-profiling) (23.1)\n",
      "Requirement already satisfied: kiwisolver>=1.0.1 in /Users/alexmirugwe/opt/anaconda3/lib/python3.9/site-packages (from matplotlib<4,>=3.2->ydata-profiling->pandas-profiling) (1.4.2)\n",
      "Requirement already satisfied: python-dateutil>=2.7 in /Users/alexmirugwe/opt/anaconda3/lib/python3.9/site-packages (from matplotlib<4,>=3.2->ydata-profiling->pandas-profiling) (2.8.2)\n",
      "Requirement already satisfied: pyparsing>=2.2.1 in /Users/alexmirugwe/opt/anaconda3/lib/python3.9/site-packages (from matplotlib<4,>=3.2->ydata-profiling->pandas-profiling) (3.0.9)\n",
      "Requirement already satisfied: cycler>=0.10 in /Users/alexmirugwe/opt/anaconda3/lib/python3.9/site-packages (from matplotlib<4,>=3.2->ydata-profiling->pandas-profiling) (0.11.0)\n",
      "Requirement already satisfied: pytz>=2017.3 in /Users/alexmirugwe/opt/anaconda3/lib/python3.9/site-packages (from pandas!=1.4.0,<2.1,>1.1->ydata-profiling->pandas-profiling) (2022.1)\n",
      "Requirement already satisfied: joblib>=0.14.1 in /Users/alexmirugwe/opt/anaconda3/lib/python3.9/site-packages (from phik<0.13,>=0.11.1->ydata-profiling->pandas-profiling) (1.3.1)\n",
      "Requirement already satisfied: typing-extensions>=4.2.0 in /Users/alexmirugwe/opt/anaconda3/lib/python3.9/site-packages (from pydantic<2,>=1.8.1->ydata-profiling->pandas-profiling) (4.3.0)\n",
      "Requirement already satisfied: certifi>=2017.4.17 in /Users/alexmirugwe/opt/anaconda3/lib/python3.9/site-packages (from requests<3,>=2.24.0->ydata-profiling->pandas-profiling) (2022.9.24)\n",
      "Requirement already satisfied: charset-normalizer<3,>=2 in /Users/alexmirugwe/opt/anaconda3/lib/python3.9/site-packages (from requests<3,>=2.24.0->ydata-profiling->pandas-profiling) (2.0.4)\n",
      "Requirement already satisfied: urllib3<1.27,>=1.21.1 in /Users/alexmirugwe/opt/anaconda3/lib/python3.9/site-packages (from requests<3,>=2.24.0->ydata-profiling->pandas-profiling) (1.26.11)\n",
      "Requirement already satisfied: idna<4,>=2.5 in /Users/alexmirugwe/opt/anaconda3/lib/python3.9/site-packages (from requests<3,>=2.24.0->ydata-profiling->pandas-profiling) (3.3)\n",
      "Requirement already satisfied: patsy>=0.5.2 in /Users/alexmirugwe/opt/anaconda3/lib/python3.9/site-packages (from statsmodels<1,>=0.13.2->ydata-profiling->pandas-profiling) (0.5.2)\n",
      "Requirement already satisfied: six in /Users/alexmirugwe/opt/anaconda3/lib/python3.9/site-packages (from patsy>=0.5.2->statsmodels<1,>=0.13.2->ydata-profiling->pandas-profiling) (1.16.0)\n",
      "Building wheels for collected packages: htmlmin\n",
      "  Building wheel for htmlmin (setup.py) ... \u001b[?25ldone\n",
      "\u001b[?25h  Created wheel for htmlmin: filename=htmlmin-0.1.12-py3-none-any.whl size=27082 sha256=e53b2fbb4885bf4b80d8deeff1f4bf63456a597d709e4bb28439fe71b4c81788\n",
      "  Stored in directory: /Users/alexmirugwe/Library/Caches/pip/wheels/1d/05/04/c6d7d3b66539d9e659ac6dfe81e2d0fd4c1a8316cc5a403300\n",
      "Successfully built htmlmin\n",
      "Installing collected packages: htmlmin, typeguard, tangled-up-in-unicode, pydantic, multimethod, dacite, imagehash, wordcloud, visions, phik, ydata-profiling, pandas-profiling\n",
      "  Attempting uninstall: wordcloud\n",
      "    Found existing installation: wordcloud 1.8.2.2\n",
      "    Uninstalling wordcloud-1.8.2.2:\n",
      "      Successfully uninstalled wordcloud-1.8.2.2\n",
      "Successfully installed dacite-1.8.1 htmlmin-0.1.12 imagehash-4.3.1 multimethod-1.9.1 pandas-profiling-3.6.6 phik-0.12.3 pydantic-1.10.11 tangled-up-in-unicode-0.2.0 typeguard-2.13.3 visions-0.7.5 wordcloud-1.9.2 ydata-profiling-4.3.1\n"
     ]
    }
   ],
   "source": [
    "!pip install pandas-profiling"
   ]
  },
  {
   "cell_type": "code",
   "execution_count": null,
   "id": "be4d0faa-04b9-41b1-ac15-a72be35bdc52",
   "metadata": {},
   "outputs": [],
   "source": []
  }
 ],
 "metadata": {
  "kernelspec": {
   "display_name": "Python 3 (ipykernel)",
   "language": "python",
   "name": "python3"
  },
  "language_info": {
   "codemirror_mode": {
    "name": "ipython",
    "version": 3
   },
   "file_extension": ".py",
   "mimetype": "text/x-python",
   "name": "python",
   "nbconvert_exporter": "python",
   "pygments_lexer": "ipython3",
   "version": "3.9.13"
  }
 },
 "nbformat": 4,
 "nbformat_minor": 5
}
